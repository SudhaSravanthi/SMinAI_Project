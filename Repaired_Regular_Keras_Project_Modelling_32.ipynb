{
  "nbformat": 4,
  "nbformat_minor": 0,
  "metadata": {
    "colab": {
      "name": "Repaired-Regular_Keras_Project_Modelling_32.ipynb",
      "version": "0.3.2",
      "provenance": [],
      "collapsed_sections": []
    },
    "kernelspec": {
      "name": "python3",
      "display_name": "Python 3"
    },
    "accelerator": "GPU"
  },
  "cells": [
    {
      "cell_type": "code",
      "metadata": {
        "id": "OLCI4_L2lBeR",
        "colab_type": "code",
        "colab": {}
      },
      "source": [
        "!pip install -U -q PyDrive\n",
        "import os\n",
        "from pydrive.auth import GoogleAuth\n",
        "from pydrive.drive import GoogleDrive\n",
        "from google.colab import auth\n",
        "from oauth2client.client import GoogleCredentials\n",
        "import pandas as pd\n",
        "from PIL import Image\n",
        "import csv\n",
        "import numpy as np\n",
        "import random\n",
        "import pickle\n",
        "import os\n",
        "import tensorflow as tf\n",
        "import numpy as np\n",
        "import math\n",
        "import timeit\n",
        "import matplotlib.pyplot as plt\n",
        "\n",
        "%matplotlib inline\n",
        "\n",
        "# 1. Authenticate and create the PyDrive client.\n",
        "auth.authenticate_user()\n",
        "gauth = GoogleAuth()\n",
        "gauth.credentials = GoogleCredentials.get_application_default()\n",
        "drive = GoogleDrive(gauth)\n",
        "##image_size = (64, 64)\n",
        "\n"
      ],
      "execution_count": 0,
      "outputs": []
    },
    {
      "cell_type": "code",
      "metadata": {
        "id": "fPIy2-IOog44",
        "colab_type": "code",
        "colab": {}
      },
      "source": [
        "\n",
        "downloaded = drive.CreateFile({'id':'16fcDf1GqAMHxnujE23GWMCrzyQ6te9pL'}) \n",
        "downloaded.GetContentFile('Training_images_32.pkl')      \n",
        "output = open('Training_images_32.pkl', 'rb')\n",
        "x_train = pickle.load(output)      \n",
        "output.close()\n",
        "\n",
        "downloaded = drive.CreateFile({'id':'1ukS_5R6fwGzaf4jHVpJzaOe10141-ZiQ'}) \n",
        "downloaded.GetContentFile('test_images_32.pkl')      \n",
        "output = open('test_images_32.pkl', 'rb')\n",
        "x_test = pickle.load(output)      \n",
        "output.close()\n",
        "\n",
        "downloaded = drive.CreateFile({'id':'1qPewTCYpP592IFrtaqyKxYE-DFt-n1Rz'}) \n",
        "downloaded.GetContentFile('Training_labels_32.pkl')      \n",
        "output = open('Training_labels_32.pkl', 'rb')\n",
        "y_train = pickle.load(output)      \n",
        "output.close()\n",
        "\n",
        "downloaded = drive.CreateFile({'id':'1uQd1xK5QdzYOKQNhZYZii56AMzqo8Mkj'}) \n",
        "downloaded.GetContentFile('test_labels_32.pkl')      \n",
        "output = open('test_labels_32.pkl', 'rb')\n",
        "y_test = pickle.load(output)      \n",
        "output.close()\n",
        "\n"
      ],
      "execution_count": 0,
      "outputs": []
    },
    {
      "cell_type": "code",
      "metadata": {
        "id": "QfGiv8Rvkdg8",
        "colab_type": "code",
        "outputId": "2c78f6f5-f587-4c2f-8ab1-b7e0c05ca7db",
        "colab": {
          "base_uri": "https://localhost:8080/",
          "height": 85
        }
      },
      "source": [
        "print(x_train.shape)\n",
        "print(x_test.shape)\n",
        "\n",
        "print(y_train.shape)\n",
        "print(y_test.shape)\n"
      ],
      "execution_count": 117,
      "outputs": [
        {
          "output_type": "stream",
          "text": [
            "(2436, 32, 32, 3)\n",
            "(569, 32, 32, 3)\n",
            "(2436, 1)\n",
            "(569, 1)\n"
          ],
          "name": "stdout"
        }
      ]
    },
    {
      "cell_type": "code",
      "metadata": {
        "id": "BKfTQ3osrifk",
        "colab_type": "code",
        "colab": {}
      },
      "source": [
        "\n",
        "training_object = list(zip(x_train, y_train))\n",
        "random.shuffle(training_object)\n",
        "x_train, y_train = zip(*training_object)\n",
        "x_train = np.array(x_train) \n",
        "y_train = np.array(y_train)\n",
        "\n",
        "test_object = list(zip(x_test, y_test))\n",
        "random.shuffle(test_object)\n",
        "x_test, y_test = zip(*test_object)\n",
        "x_test = np.array(x_test) \n",
        "y_test = np.array(y_test)\n",
        "\n",
        "x_actual = x_test    "
      ],
      "execution_count": 0,
      "outputs": []
    },
    {
      "cell_type": "code",
      "metadata": {
        "id": "q4AA4vRd4duS",
        "colab_type": "code",
        "colab": {}
      },
      "source": [
        "x_train = np.array(x_train)\n",
        "#x_validation = np.array(x_validation)\n",
        "mean_pixel = x_train.mean(axis=(0, 1, 2), keepdims=True)\n",
        "std_pixel = x_train.std(axis=(0, 1, 2), keepdims=True)\n",
        "x_train = (x_train - mean_pixel) / std_pixel  \n",
        "#x_validation = (x_validation - mean_pixel) / std_pixel\n",
        "x_test = (x_test - mean_pixel) / std_pixel\n"
      ],
      "execution_count": 0,
      "outputs": []
    },
    {
      "cell_type": "markdown",
      "metadata": {
        "colab_type": "text",
        "id": "VKfs_9HPsDkB"
      },
      "source": [
        "# Part II: Repaired vs Regular Images = Using CNN\n",
        "\n",
        "\n",
        "\n",
        "This is a 2 Class Classification using CNN that identifies if a given image is Repaired or Regular.\n",
        "\n",
        "\n"
      ]
    },
    {
      "cell_type": "code",
      "metadata": {
        "colab_type": "code",
        "id": "2o4Il96efkgI",
        "colab": {}
      },
      "source": [
        "from keras.utils import np_utils\n",
        "y_train_modified = np_utils.to_categorical(y_train, 2)\n",
        "y_test_modified = np_utils.to_categorical(y_test, 2)\n",
        "#y_validation = np_utils.to_categorical(y_validation, 43)\n"
      ],
      "execution_count": 0,
      "outputs": []
    },
    {
      "cell_type": "code",
      "metadata": {
        "colab_type": "code",
        "id": "05VZ7-EpfkIf",
        "colab": {}
      },
      "source": [
        "import os\n",
        "\n",
        "import tensorflow as tf\n",
        "from tensorflow import keras\n",
        "from keras import optimizers\n"
      ],
      "execution_count": 0,
      "outputs": []
    },
    {
      "cell_type": "code",
      "metadata": {
        "colab_type": "code",
        "outputId": "d9753d05-8002-490d-819f-0a53c885c29f",
        "id": "WkGvr1xFfi8l",
        "colab": {
          "base_uri": "https://localhost:8080/",
          "height": 731
        }
      },
      "source": [
        "from keras.models import Sequential\n",
        "from keras.layers import Dense, Conv2D, Flatten, MaxPooling2D\n",
        "from sklearn.metrics import confusion_matrix\n",
        "#create model\n",
        "model1 = Sequential()\n",
        "#add model layers\n",
        "model1.add(Conv2D(32, kernel_size=5, activation='relu', input_shape=(32,32,3)))\n",
        "model1.add(MaxPooling2D(pool_size=(2, 2)))\n",
        "model1.add(Conv2D(28, kernel_size=3, activation='relu'))\n",
        "model1.add(MaxPooling2D(pool_size=(2, 2)))\n",
        "model1.add(Flatten())\n",
        "model1.add(Dense(256))\n",
        "model1.add(Dense(2, activation='softmax'))\n",
        "model1.summary()\n",
        "\"\"\"checkpoint_path = \"training_1/cp.ckpt\"\n",
        "checkpoint_dir = os.path.dirname(checkpoint_path)\n",
        "\n",
        "# Create checkpoint callback\n",
        "cp_callback = tf.keras.callbacks.ModelCheckpoint(checkpoint_path, \n",
        "                                                 save_weights_only=True,\n",
        "                                                 verbose=1)\"\"\"\n",
        "#compile model using accuracy to measure model performance\n",
        "model1.compile(optimizer='adam', loss='categorical_crossentropy', metrics=['accuracy'])\n",
        "model1.fit(np.array(x_train), y_train_modified, validation_data=(np.array(x_test), y_test_modified), epochs=10, batch_size=128) \n",
        "y_pred = model1.predict(x_test)\n"
      ],
      "execution_count": 122,
      "outputs": [
        {
          "output_type": "stream",
          "text": [
            "_________________________________________________________________\n",
            "Layer (type)                 Output Shape              Param #   \n",
            "=================================================================\n",
            "conv2d_15 (Conv2D)           (None, 28, 28, 32)        2432      \n",
            "_________________________________________________________________\n",
            "max_pooling2d_15 (MaxPooling (None, 14, 14, 32)        0         \n",
            "_________________________________________________________________\n",
            "conv2d_16 (Conv2D)           (None, 12, 12, 28)        8092      \n",
            "_________________________________________________________________\n",
            "max_pooling2d_16 (MaxPooling (None, 6, 6, 28)          0         \n",
            "_________________________________________________________________\n",
            "flatten_8 (Flatten)          (None, 1008)              0         \n",
            "_________________________________________________________________\n",
            "dense_15 (Dense)             (None, 256)               258304    \n",
            "_________________________________________________________________\n",
            "dense_16 (Dense)             (None, 2)                 514       \n",
            "=================================================================\n",
            "Total params: 269,342\n",
            "Trainable params: 269,342\n",
            "Non-trainable params: 0\n",
            "_________________________________________________________________\n",
            "Train on 2436 samples, validate on 569 samples\n",
            "Epoch 1/10\n",
            "2436/2436 [==============================] - 1s 301us/step - loss: 0.4722 - acc: 0.7915 - val_loss: 0.4877 - val_acc: 0.7891\n",
            "Epoch 2/10\n",
            "2436/2436 [==============================] - 0s 72us/step - loss: 0.2879 - acc: 0.8814 - val_loss: 0.3583 - val_acc: 0.8295\n",
            "Epoch 3/10\n",
            "2436/2436 [==============================] - 0s 70us/step - loss: 0.1929 - acc: 0.9323 - val_loss: 0.2345 - val_acc: 0.9139\n",
            "Epoch 4/10\n",
            "2436/2436 [==============================] - 0s 67us/step - loss: 0.1283 - acc: 0.9565 - val_loss: 0.3187 - val_acc: 0.8629\n",
            "Epoch 5/10\n",
            "2436/2436 [==============================] - 0s 64us/step - loss: 0.0851 - acc: 0.9733 - val_loss: 0.2328 - val_acc: 0.9262\n",
            "Epoch 6/10\n",
            "2436/2436 [==============================] - 0s 70us/step - loss: 0.0641 - acc: 0.9799 - val_loss: 0.2708 - val_acc: 0.9121\n",
            "Epoch 7/10\n",
            "2436/2436 [==============================] - 0s 62us/step - loss: 0.0494 - acc: 0.9844 - val_loss: 0.2488 - val_acc: 0.9279\n",
            "Epoch 8/10\n",
            "2436/2436 [==============================] - 0s 61us/step - loss: 0.0322 - acc: 0.9910 - val_loss: 0.8734 - val_acc: 0.7522\n",
            "Epoch 9/10\n",
            "2436/2436 [==============================] - 0s 60us/step - loss: 0.1396 - acc: 0.9487 - val_loss: 0.1478 - val_acc: 0.9508\n",
            "Epoch 10/10\n",
            "2436/2436 [==============================] - 0s 61us/step - loss: 0.0528 - acc: 0.9819 - val_loss: 0.1553 - val_acc: 0.9508\n"
          ],
          "name": "stdout"
        }
      ]
    },
    {
      "cell_type": "code",
      "metadata": {
        "colab_type": "code",
        "outputId": "3126b5a2-9f71-426d-df9e-0091a20c6a1e",
        "id": "qsilIgw3fh2p",
        "colab": {
          "base_uri": "https://localhost:8080/",
          "height": 119
        }
      },
      "source": [
        "y_pred = model1.predict(x_test)\n",
        "t_oss, t_acc = model1.evaluate(x_train, y_train_modified)\n",
        "print(\"Accuracy: {:5.2f}%\".format(100*t_acc))\n",
        "print(\"Loss: {:5.2f}%\".format(t_oss))\n",
        "\n",
        "oss, acc = model1.evaluate(x_test, y_test_modified)\n",
        "print(\"Accuracy: {:5.2f}%\".format(100*acc))\n",
        "print(\"Loss: {:5.2f}%\".format(oss))"
      ],
      "execution_count": 123,
      "outputs": [
        {
          "output_type": "stream",
          "text": [
            "2436/2436 [==============================] - 0s 68us/step\n",
            "Accuracy: 99.06%\n",
            "Loss:  0.03%\n",
            "569/569 [==============================] - 0s 62us/step\n",
            "Accuracy: 95.08%\n",
            "Loss:  0.16%\n"
          ],
          "name": "stdout"
        }
      ]
    },
    {
      "cell_type": "code",
      "metadata": {
        "colab_type": "code",
        "id": "xWXbenrdD8dw",
        "colab": {}
      },
      "source": [
        "from sklearn.metrics import confusion_matrix\n",
        "x = confusion_matrix(y_test_modified.argmax(axis=1), y_pred.argmax(axis=1))"
      ],
      "execution_count": 0,
      "outputs": []
    },
    {
      "cell_type": "code",
      "metadata": {
        "colab_type": "code",
        "id": "4vSziw35D8d2",
        "colab": {
          "base_uri": "https://localhost:8080/",
          "height": 68
        },
        "outputId": "9c8fd964-362b-4307-bf05-38bc4037eed6"
      },
      "source": [
        "accuracy = np.ones((len(x), 1), dtype='float')\n",
        "accuracy = pd.DataFrame(accuracy)\n",
        "\n",
        "\n",
        "df = pd.DataFrame(x)\n",
        "for index, row in df.iterrows():  \n",
        "  r = pd.DataFrame(row).T  \n",
        "  accuracy.loc[index, 0] = round((r.loc[index, index]/r.sum(axis=1))[index], 2)\n",
        "  \n",
        "\n",
        "\n",
        "print(accuracy)"
      ],
      "execution_count": 125,
      "outputs": [
        {
          "output_type": "stream",
          "text": [
            "      0\n",
            "0  0.96\n",
            "1  0.93\n"
          ],
          "name": "stdout"
        }
      ]
    },
    {
      "cell_type": "code",
      "metadata": {
        "colab_type": "code",
        "id": "VOt_UigVsDkz",
        "colab": {
          "base_uri": "https://localhost:8080/",
          "height": 51
        },
        "outputId": "57fcb082-aca5-44d2-c4db-576171bf1c32"
      },
      "source": [
        "from sklearn.metrics import confusion_matrix\n",
        "x_ConfusionMatrix = confusion_matrix(y_test_modified.argmax(axis=1), y_pred.argmax(axis=1), labels = np.array(range(0, 2)))\n",
        "print(x_ConfusionMatrix)"
      ],
      "execution_count": 126,
      "outputs": [
        {
          "output_type": "stream",
          "text": [
            "[[375  15]\n",
            " [ 13 166]]\n"
          ],
          "name": "stdout"
        }
      ]
    },
    {
      "cell_type": "code",
      "metadata": {
        "colab_type": "code",
        "id": "4xLLGUflsDk9",
        "colab": {}
      },
      "source": [
        "def decode(datum):\n",
        "    return np.argmax(datum)\n",
        "y_actual = np.array(np.zeros(y_test.shape[0]))\n",
        "for i in range(y_test_modified.shape[0]):\n",
        "    \n",
        "    decoded_y = decode(y_test_modified[i])\n",
        "    y_actual[i] = decoded_y\n",
        "    \n",
        "    \n",
        "\n",
        "\n",
        "def decode(datum):\n",
        "    return np.argmax(datum)\n",
        "y_prediction = np.array(np.zeros(y_pred.shape[0]))\n",
        "for i in range(y_pred.shape[0]):\n",
        "    \n",
        "    decoded_y = decode(y_pred[i])\n",
        "    y_prediction[i] = decoded_y"
      ],
      "execution_count": 0,
      "outputs": []
    },
    {
      "cell_type": "code",
      "metadata": {
        "colab_type": "code",
        "outputId": "09a0f641-6b54-49f5-cde9-8adc093edf19",
        "id": "IbldXehrsDk4",
        "colab": {
          "base_uri": "https://localhost:8080/",
          "height": 170
        }
      },
      "source": [
        "from sklearn.metrics import classification_report\n",
        "print(classification_report(y_actual, y_prediction))"
      ],
      "execution_count": 128,
      "outputs": [
        {
          "output_type": "stream",
          "text": [
            "              precision    recall  f1-score   support\n",
            "\n",
            "         0.0       0.97      0.96      0.96       390\n",
            "         1.0       0.92      0.93      0.92       179\n",
            "\n",
            "   micro avg       0.95      0.95      0.95       569\n",
            "   macro avg       0.94      0.94      0.94       569\n",
            "weighted avg       0.95      0.95      0.95       569\n",
            "\n"
          ],
          "name": "stdout"
        }
      ]
    },
    {
      "cell_type": "code",
      "metadata": {
        "id": "sIv-VzYeFYvQ",
        "colab_type": "code",
        "colab": {
          "base_uri": "https://localhost:8080/",
          "height": 283
        },
        "outputId": "1af86c5b-e0d6-446a-aacf-25aa114537c7"
      },
      "source": [
        "from mlxtend.plotting import plot_confusion_matrix\n",
        "import matplotlib.pyplot as plt\n",
        "fig, ax = plot_confusion_matrix(conf_mat=x_ConfusionMatrix)\n",
        "plt.show()"
      ],
      "execution_count": 167,
      "outputs": [
        {
          "output_type": "display_data",
          "data": {
            "image/png": "[encoded data removed]",
            "text/plain": [
              "<Figure size 432x288 with 1 Axes>"
            ]
          },
          "metadata": {
            "tags": []
          }
        }
      ]
    },
    {
      "cell_type": "code",
      "metadata": {
        "id": "_eh8ZS3hFPv1",
        "colab_type": "code",
        "colab": {}
      },
      "source": [
        ""
      ],
      "execution_count": 0,
      "outputs": []
    },
    {
      "cell_type": "code",
      "metadata": {
        "id": "oELjPwhJhPwE",
        "colab_type": "code",
        "colab": {}
      },
      "source": [
        ""
      ],
      "execution_count": 0,
      "outputs": []
    },
    {
      "cell_type": "markdown",
      "metadata": {
        "colab_type": "text",
        "id": "kPxdn_TJhQlv"
      },
      "source": [
        "# Part II: Repaired vs Regular Images = Using SVM\n",
        "\n",
        "\n",
        "\n",
        "This is a 2 Class Classification using SVM that identifies if a given image is Repaired or Regular.\n",
        "\n",
        "\n"
      ]
    },
    {
      "cell_type": "code",
      "metadata": {
        "id": "HQm9qj-jjDOR",
        "colab_type": "code",
        "colab": {
          "base_uri": "https://localhost:8080/",
          "height": 119
        },
        "outputId": "3b92ff47-dd0c-4e27-8204-5e374db856b0"
      },
      "source": [
        "\n",
        "print(y_train.shape)\n",
        "print(y_train.ravel().shape)\n",
        "\n",
        "x_train_modified = x_train.reshape((len(x_train), -1))\n",
        "y_train_m = y_train.ravel()\n",
        "x_test_modified = x_test.reshape((len(x_test), -1))\n",
        "y_test_modified = y_test.ravel()\n",
        "\n",
        "print(x_train_modified.shape)\n",
        "print(y_train_m.shape)\n",
        "print(x_test_modified.shape)\n",
        "print(y_test_modified.shape)\n"
      ],
      "execution_count": 160,
      "outputs": [
        {
          "output_type": "stream",
          "text": [
            "(2436, 1)\n",
            "(2436,)\n",
            "(2436, 3072)\n",
            "(2436,)\n",
            "(569, 3072)\n",
            "(569,)\n"
          ],
          "name": "stdout"
        }
      ]
    },
    {
      "cell_type": "code",
      "metadata": {
        "colab_type": "code",
        "id": "08WgyCrBhQlv",
        "colab": {}
      },
      "source": [
        "from sklearn import svm\n",
        "\n",
        "\n",
        "classifier = svm.SVC(gamma=0.001)\n",
        "#fit to the trainin data\n",
        "classifier.fit(x_train_modified,y_train_m)\n",
        "\n",
        "y_pred = classifier.predict(x_test_modified)"
      ],
      "execution_count": 0,
      "outputs": []
    },
    {
      "cell_type": "code",
      "metadata": {
        "colab_type": "code",
        "id": "NW32lk6ohQl7",
        "colab": {
          "base_uri": "https://localhost:8080/",
          "height": 51
        },
        "outputId": "00d1d4c7-a32a-43de-bd45-745f3173c6b7"
      },
      "source": [
        "from sklearn.metrics import confusion_matrix\n",
        "x = confusion_matrix(y_test_modified, y_pred)\n",
        "print(x)"
      ],
      "execution_count": 162,
      "outputs": [
        {
          "output_type": "stream",
          "text": [
            "[[353  37]\n",
            " [ 19 160]]\n"
          ],
          "name": "stdout"
        }
      ]
    },
    {
      "cell_type": "code",
      "metadata": {
        "colab_type": "code",
        "outputId": "d236fd48-9fbe-4824-8d3b-8b6d5db509ff",
        "id": "DJ8XM5nphQmI",
        "colab": {
          "base_uri": "https://localhost:8080/",
          "height": 68
        }
      },
      "source": [
        "accuracy = np.ones((len(x), 1), dtype='float')\n",
        "accuracy = pd.DataFrame(accuracy)\n",
        "\n",
        "\n",
        "df = pd.DataFrame(x)\n",
        "for index, row in df.iterrows():  \n",
        "  r = pd.DataFrame(row).T  \n",
        "  accuracy.loc[index, 0] = round((r.loc[index, index]/r.sum(axis=1))[index], 2)\n",
        "  \n",
        "\n",
        "\n",
        "print(accuracy)"
      ],
      "execution_count": 163,
      "outputs": [
        {
          "output_type": "stream",
          "text": [
            "      0\n",
            "0  0.91\n",
            "1  0.89\n"
          ],
          "name": "stdout"
        }
      ]
    },
    {
      "cell_type": "code",
      "metadata": {
        "colab_type": "code",
        "outputId": "056a7a1c-0e66-403a-9c09-b5bbef1c0495",
        "id": "q8fBG1h5hQmW",
        "colab": {
          "base_uri": "https://localhost:8080/",
          "height": 170
        }
      },
      "source": [
        "from sklearn.metrics import classification_report\n",
        "print(classification_report(y_test_modified, y_pred))"
      ],
      "execution_count": 165,
      "outputs": [
        {
          "output_type": "stream",
          "text": [
            "              precision    recall  f1-score   support\n",
            "\n",
            "         0.0       0.95      0.91      0.93       390\n",
            "         1.0       0.81      0.89      0.85       179\n",
            "\n",
            "   micro avg       0.90      0.90      0.90       569\n",
            "   macro avg       0.88      0.90      0.89       569\n",
            "weighted avg       0.91      0.90      0.90       569\n",
            "\n"
          ],
          "name": "stdout"
        }
      ]
    },
    {
      "cell_type": "code",
      "metadata": {
        "colab_type": "code",
        "outputId": "eb0acd91-b89a-43a1-876a-7a939dc6e701",
        "id": "3gAoERQ_hQmd",
        "colab": {
          "base_uri": "https://localhost:8080/",
          "height": 283
        }
      },
      "source": [
        "from mlxtend.plotting import plot_confusion_matrix\n",
        "import matplotlib.pyplot as plt\n",
        "fig, ax = plot_confusion_matrix(conf_mat=x)\n",
        "plt.show()"
      ],
      "execution_count": 166,
      "outputs": [
        {
          "output_type": "display_data",
          "data": {
            "image/png": "[encoded data removed]",
            "text/plain": [
              "<Figure size 432x288 with 1 Axes>"
            ]
          },
          "metadata": {
            "tags": []
          }
        }
      ]
    },
    {
      "cell_type": "code",
      "metadata": {
        "colab_type": "code",
        "id": "OxTKnLSuhQmg",
        "colab": {}
      },
      "source": [
        ""
      ],
      "execution_count": 0,
      "outputs": []
    }
  ]
}